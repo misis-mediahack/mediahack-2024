{
 "cells": [
  {
   "cell_type": "code",
   "id": "initial_id",
   "metadata": {
    "collapsed": true,
    "ExecuteTime": {
     "end_time": "2024-05-18T21:16:50.956998Z",
     "start_time": "2024-05-18T21:16:50.950039Z"
    }
   },
   "source": [
    "import pandas as pd\n",
    "\n",
    "train_segments = pd.read_csv('../data/train_segments.csv')\n",
    "pred_segments = pd.read_csv('../predict.csv')\n"
   ],
   "outputs": [],
   "execution_count": 2
  },
  {
   "metadata": {
    "ExecuteTime": {
     "end_time": "2024-05-18T21:17:43.038468Z",
     "start_time": "2024-05-18T21:17:43.036105Z"
    }
   },
   "cell_type": "code",
   "source": "train_segments[train_segments['Segment_num'] == 6]['Segment_num'] = 0",
   "id": "5bd5fae8c8844224",
   "outputs": [
    {
     "name": "stderr",
     "output_type": "stream",
     "text": [
      "/tmp/ipykernel_175770/1403322618.py:1: SettingWithCopyWarning: \n",
      "A value is trying to be set on a copy of a slice from a DataFrame.\n",
      "Try using .loc[row_indexer,col_indexer] = value instead\n",
      "\n",
      "See the caveats in the documentation: https://pandas.pydata.org/pandas-docs/stable/user_guide/indexing.html#returning-a-view-versus-a-copy\n",
      "  train_segments[train_segments['Segment_num'] == 6]['Segment_num'] = 0\n"
     ]
    }
   ],
   "execution_count": 5
  },
  {
   "metadata": {
    "ExecuteTime": {
     "end_time": "2024-05-18T21:18:33.932320Z",
     "start_time": "2024-05-18T21:18:33.928842Z"
    }
   },
   "cell_type": "code",
   "source": "results = train_segments.set_index('Advertisement ID').join(pred_segments.set_index('Advertisement ID'), rsuffix='_pred', lsuffix='_tgt')",
   "id": "7a541c03593aeea0",
   "outputs": [],
   "execution_count": 10
  },
  {
   "metadata": {
    "ExecuteTime": {
     "end_time": "2024-05-18T21:18:46.055169Z",
     "start_time": "2024-05-18T21:18:45.806887Z"
    }
   },
   "cell_type": "code",
   "source": "from sklearn.metrics import f1_score, accuracy_score",
   "id": "a1d80d3d4152fabf",
   "outputs": [],
   "execution_count": 12
  },
  {
   "metadata": {
    "ExecuteTime": {
     "end_time": "2024-05-18T21:19:00.562486Z",
     "start_time": "2024-05-18T21:19:00.557347Z"
    }
   },
   "cell_type": "code",
   "source": "accuracy_score(results['Segment_num_tgt'], results['Segment_num_pred'])",
   "id": "83a62bcefbfcea1",
   "outputs": [
    {
     "data": {
      "text/plain": [
       "0.9153889515219842"
      ]
     },
     "execution_count": 13,
     "metadata": {},
     "output_type": "execute_result"
    }
   ],
   "execution_count": 13
  },
  {
   "metadata": {
    "ExecuteTime": {
     "end_time": "2024-05-18T21:19:13.786036Z",
     "start_time": "2024-05-18T21:19:13.765314Z"
    }
   },
   "cell_type": "code",
   "source": "f1_score(results['Segment_num_tgt'], results['Segment_num_pred'], average='macro')",
   "id": "ff06b6c0d8b900db",
   "outputs": [
    {
     "data": {
      "text/plain": [
       "0.8102712291842513"
      ]
     },
     "execution_count": 14,
     "metadata": {},
     "output_type": "execute_result"
    }
   ],
   "execution_count": 14
  }
 ],
 "metadata": {
  "kernelspec": {
   "display_name": "Python 3",
   "language": "python",
   "name": "python3"
  },
  "language_info": {
   "codemirror_mode": {
    "name": "ipython",
    "version": 2
   },
   "file_extension": ".py",
   "mimetype": "text/x-python",
   "name": "python",
   "nbconvert_exporter": "python",
   "pygments_lexer": "ipython2",
   "version": "2.7.6"
  }
 },
 "nbformat": 4,
 "nbformat_minor": 5
}
