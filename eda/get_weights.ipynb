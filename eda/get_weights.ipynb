{
 "cells": [
  {
   "cell_type": "code",
   "id": "initial_id",
   "metadata": {
    "collapsed": true,
    "ExecuteTime": {
     "end_time": "2024-05-18T17:57:24.428072Z",
     "start_time": "2024-05-18T17:57:24.423899Z"
    }
   },
   "source": [
    "import math\n",
    "\n",
    "import pandas as pd\n",
    "\n",
    "df = pd.read_csv('../data/train_segments.csv')"
   ],
   "outputs": [],
   "execution_count": 2
  },
  {
   "metadata": {
    "ExecuteTime": {
     "end_time": "2024-05-18T17:57:42.019547Z",
     "start_time": "2024-05-18T17:57:42.014391Z"
    }
   },
   "cell_type": "code",
   "source": [
    "from mediahack.s2_train_model import map_class\n",
    "\n",
    "df['class'] = df['Segment_num'].apply(map_class)"
   ],
   "id": "94a9668357d28719",
   "outputs": [],
   "execution_count": 5
  },
  {
   "metadata": {
    "ExecuteTime": {
     "end_time": "2024-05-18T17:59:48.722773Z",
     "start_time": "2024-05-18T17:59:48.720143Z"
    }
   },
   "cell_type": "code",
   "source": "vcs = df['class'].value_counts().sort_index()",
   "id": "802607997bdfe994",
   "outputs": [],
   "execution_count": 10
  },
  {
   "metadata": {
    "ExecuteTime": {
     "end_time": "2024-05-18T18:00:28.080996Z",
     "start_time": "2024-05-18T18:00:28.079004Z"
    }
   },
   "cell_type": "code",
   "source": [
    "import math\n",
    "w = (vcs.max() / vcs).apply(math.sqrt)"
   ],
   "id": "2da2420bc3a8c967",
   "outputs": [],
   "execution_count": 17
  },
  {
   "metadata": {
    "ExecuteTime": {
     "end_time": "2024-05-18T18:00:36.961074Z",
     "start_time": "2024-05-18T18:00:36.958984Z"
    }
   },
   "cell_type": "code",
   "source": "w.tolist()",
   "id": "33f92e06a48589b2",
   "outputs": [
    {
     "data": {
      "text/plain": [
       "[1.0,\n",
       " 3.2580115710662065,\n",
       " 9.103051478404778,\n",
       " 5.704783471390088,\n",
       " 4.342198119895993,\n",
       " 4.816882076735579,\n",
       " 7.638659072509749,\n",
       " 6.8689022544958505,\n",
       " 6.8689022544958505,\n",
       " 6.305719370079321,\n",
       " 7.485212695101529,\n",
       " 5.988170156081223,\n",
       " 6.146674645318581,\n",
       " 4.886359925055796,\n",
       " 4.645178201658588,\n",
       " 2.5045759647810204,\n",
       " 2.8268508803107704,\n",
       " 5.255649221504019]"
      ]
     },
     "execution_count": 21,
     "metadata": {},
     "output_type": "execute_result"
    }
   ],
   "execution_count": 21
  }
 ],
 "metadata": {
  "kernelspec": {
   "display_name": "Python 3",
   "language": "python",
   "name": "python3"
  },
  "language_info": {
   "codemirror_mode": {
    "name": "ipython",
    "version": 2
   },
   "file_extension": ".py",
   "mimetype": "text/x-python",
   "name": "python",
   "nbconvert_exporter": "python",
   "pygments_lexer": "ipython2",
   "version": "2.7.6"
  }
 },
 "nbformat": 4,
 "nbformat_minor": 5
}
